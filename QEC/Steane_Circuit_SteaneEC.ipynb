{
 "cells": [
  {
   "cell_type": "markdown",
   "id": "34bcfcaa-fbb2-49c7-9873-31d81e8e376c",
   "metadata": {
    "tags": []
   },
   "source": [
    "### Steane [[7, 1, 3]], circuit model, Steane EC\n",
    "\n",
    "Depolarization channel: \n",
    "$$\\rho\\rightarrow (1-p)\\rho + \\frac{p}{3}X\\rho X + \\frac{p}{3}Y\\rho Y + \\frac{p}{3}Z\\rho Z$$\n",
    "\n",
    "Assume state prep is FT with 1q-error rate $p$.\n",
    "\n",
    "During syndrome measurements, faults can propagate through CNOTs and create extra errors. \n",
    "\n",
    "For Steane EC, we FT-ly create a logical qubit as the ancilla block and do transversal CNOTs between data and ancilla block. Then we do transversal readout on the ancilla block and apply EC on the data qubit based on the readout. \n",
    "\n",
    "CNOTs can be faulty: goes through a 2-qubit depolarization channel with error rate $p$.\n",
    "\n",
    "Each syndrome measurement has probability $p$ to go wrong.\n",
    "\n",
    "After circuit-model EC, the success rate of circuit-model EC is determined by applying one round of ideal EC (code capacity). If the ideal EC does not introduce logical error (the output state of the circuit-model EC is correctable), then the circuit-model EC succeeds."
   ]
  },
  {
   "cell_type": "code",
   "execution_count": 294,
   "id": "5256b684-8e8e-4450-9eb7-fdb1cfcc0ac5",
   "metadata": {},
   "outputs": [],
   "source": [
    "import numpy as np\n",
    "import matplotlib.pyplot as plt\n",
    "import numpy.random as rand\n",
    "from tqdm import tqdm"
   ]
  },
  {
   "cell_type": "code",
   "execution_count": 4,
   "id": "731327d0-0b86-4eae-8227-7d29b103e253",
   "metadata": {},
   "outputs": [],
   "source": [
    "def steane_Err():\n",
    "    # col 1: X error\n",
    "    # col 2: Z error\n",
    "    return np.zeros((7, 2))"
   ]
  },
  {
   "cell_type": "code",
   "execution_count": 20,
   "id": "26b5f8f0-ae09-4615-8334-647fe27abb1d",
   "metadata": {},
   "outputs": [],
   "source": [
    "# Apply depolarization channel, single error rate p\n",
    "def AddError(p, P_matrix):\n",
    "    for i in range(7):\n",
    "        r1 = rand.random()\n",
    "        if r1 < p:\n",
    "            r2 = rand.random()\n",
    "            if r2 < 2/3:\n",
    "                P_matrix[i][0] = 1\n",
    "            if 1/3 <= r2 <= 1:\n",
    "                P_matrix[i][1] = 1\n",
    "    return P_matrix"
   ]
  },
  {
   "cell_type": "code",
   "execution_count": 6,
   "id": "12930c1f-2785-4b4e-91b5-fe9adf66ee1a",
   "metadata": {},
   "outputs": [],
   "source": [
    "# Error occurred during measurement, add to check matrix in each round\n",
    "def meas_err(p):\n",
    "    meas_err = np.zeros((2, 3))\n",
    "    for i in range(2):\n",
    "        for j in range(3):\n",
    "            r = np.random.random()\n",
    "            if r < p:\n",
    "                meas_err[i][j] = 1\n",
    "    return meas_err"
   ]
  },
  {
   "cell_type": "code",
   "execution_count": 19,
   "id": "638d8d65-ea20-483c-8f5d-c0136141c54a",
   "metadata": {},
   "outputs": [],
   "source": [
    "# CNOT 2-qubit depolarization channel\n",
    "def CNOT_err(p, logical_1, logical_2, idx_1, idx_2):\n",
    "    r1 = rand.random()\n",
    "    if r1 < p*16/15:\n",
    "        r2 = rand.random()\n",
    "        r3 = rand.random()\n",
    "        if r2 < 1/2:                  # X_\n",
    "            logical_1[idx_1][0] += 1\n",
    "        if 1/4 <= r2 < 3/4:           # Z_\n",
    "            logical_1[idx_1][1] += 1\n",
    "        if r3 < 1/2:                  # _X\n",
    "            logical_2[idx_2][0] += 1\n",
    "        if 1/4 <= r3 < 3/4:           # _Z\n",
    "            logical_2[idx_2][1] += 1\n",
    "        return 0"
   ]
  },
  {
   "cell_type": "code",
   "execution_count": 53,
   "id": "254c32af-c879-44fb-a0c4-416d17f484d0",
   "metadata": {},
   "outputs": [],
   "source": [
    "# Hook error caused by CNOT\n",
    "def hook_err(logical_1, logical_2, idx_1, idx_2):\n",
    "    # logical_1[idx_1]: ctrl\n",
    "    # logical_2[idx_2]: target\n",
    "    if logical_1[idx_1][0]%2 == 1:  # X error from ctrl to target\n",
    "        logical_2[idx_2][0] += 1\n",
    "    if logical_2[idx_2][1]%2 == 1:  # Z error from target to ctrl\n",
    "        logical_1[idx_1][1] += 1\n",
    "    return 0"
   ]
  },
  {
   "cell_type": "code",
   "execution_count": 295,
   "id": "71b0331e-fe9e-4331-9a89-9e1889cf76b6",
   "metadata": {},
   "outputs": [],
   "source": [
    "# Transversal CNOT error propagation\n",
    "def transversal_CNOT(p, logical_1, logical_2):\n",
    "    for i in range(len(logical_1)):\n",
    "        hook_err(logical_1, logical_2, i, i)\n",
    "        CNOT_err(p, logical_1, logical_2, i, i)\n",
    "    return 0"
   ]
  },
  {
   "cell_type": "code",
   "execution_count": 316,
   "id": "93cea80a-aab2-4464-8c99-53547d736652",
   "metadata": {},
   "outputs": [],
   "source": [
    "def Decoder(Data, Ancilla_X, Ancilla_Z, p=0):\n",
    "    \n",
    "    # Introduce errors from syndrome measurement\n",
    "    transversal_CNOT(p, Data, Ancilla_X)\n",
    "    transversal_CNOT(p, Ancilla_Z, Data)\n",
    "    \n",
    "    # Detect\n",
    "    H = np.array([[1, 1, 1, 1, 0, 0, 0],\n",
    "                  [0, 1, 1, 0, 1, 1, 0],\n",
    "                  [0, 0, 1, 1, 0, 1, 1]]).transpose()\n",
    "    check_X = (np.dot(Ancilla_X.transpose()[0], H)%2) + meas_err(p)\n",
    "    check_Z = (np.dot(Ancilla_Z.transpose()[1], H)%2) + meas_err(p)\n",
    "    \n",
    "    # Decode\n",
    "    syndrome_list = np.array([[1, 0, 0],\n",
    "                              [1, 1, 0],\n",
    "                              [1, 1, 1],\n",
    "                              [1, 0, 1],\n",
    "                              [0, 1, 0],\n",
    "                              [0, 1, 1],\n",
    "                              [0, 0, 1]])\n",
    "    \n",
    "    # Transversal readout of ancilla blocks, 1 round\n",
    "    recovery = np.zeros((7, 2))\n",
    "    for i in range(7):\n",
    "        if (syndrome_list[i] == check_X).all():\n",
    "            recovery[i][0] += 1\n",
    "        if (syndrome_list[i] == check_Z).all():\n",
    "            recovery[i][1] += 1\n",
    "    Data = (recovery+Data)%2\n",
    "    \n",
    "    # Ideal decoder\n",
    "    check = (np.dot(Data.transpose(), H)%2)\n",
    "    recovery_id = np.zeros((7, 2))\n",
    "    for i in range(7):\n",
    "        for j in range(2):\n",
    "            if (syndrome_list[i] == check[j]).all():\n",
    "                recovery_id[i][j] = 1\n",
    "    \n",
    "    return (np.sum((recovery_id+Data)[4:], axis=0)%2)"
   ]
  },
  {
   "cell_type": "code",
   "execution_count": 318,
   "id": "a12d2fe1-a3f5-4df8-83b9-12c3b4835b4d",
   "metadata": {},
   "outputs": [
    {
     "data": {
      "text/plain": [
       "array([1., 0.])"
      ]
     },
     "execution_count": 318,
     "metadata": {},
     "output_type": "execute_result"
    }
   ],
   "source": [
    "# Example, adding random error, syndrome\n",
    "p = 0.2\n",
    "_Data = AddError(p, steane_Err())\n",
    "_Ancilla_X = AddError(p, steane_Err())\n",
    "_Ancilla_Z = AddError(p, steane_Err())\n",
    "Decoder(_Data, _Ancilla_X, _Ancilla_Z, p)"
   ]
  },
  {
   "cell_type": "code",
   "execution_count": 308,
   "id": "ac865b97-ffac-49d9-a088-11924b67cac8",
   "metadata": {},
   "outputs": [],
   "source": [
    "num_exp = 50000\n",
    "len_list = 7\n",
    "# p_list = np.linspace(0, 0.2, len_list)\n",
    "p_list = np.logspace(-3, -2, len_list)"
   ]
  },
  {
   "cell_type": "code",
   "execution_count": 311,
   "id": "92bca6bc-c858-4c84-9798-4442fe4f0b61",
   "metadata": {},
   "outputs": [
    {
     "name": "stderr",
     "output_type": "stream",
     "text": [
      "100%|███████████████████████████████████| 50000/50000 [00:08<00:00, 6034.74it/s]\n",
      "100%|███████████████████████████████████| 50000/50000 [00:08<00:00, 6048.98it/s]\n",
      "100%|███████████████████████████████████| 50000/50000 [00:08<00:00, 6029.34it/s]\n",
      "100%|███████████████████████████████████| 50000/50000 [00:08<00:00, 6010.45it/s]\n",
      "100%|███████████████████████████████████| 50000/50000 [00:08<00:00, 5990.41it/s]\n",
      "100%|███████████████████████████████████| 50000/50000 [00:08<00:00, 5973.41it/s]\n",
      "100%|███████████████████████████████████| 50000/50000 [00:08<00:00, 5949.81it/s]\n"
     ]
    }
   ],
   "source": [
    "result_list = np.ones(len_list)*num_exp\n",
    "\n",
    "for j in (range(len_list)):\n",
    "    for i in tqdm(range(num_exp)):\n",
    "        _Data = AddError(p_list[j], steane_Err())\n",
    "        _Ancilla_X = AddError(p_list[j], steane_Err())\n",
    "        _Ancilla_Z = AddError(p_list[j], steane_Err())\n",
    "        if np.sum(Decoder(_Data, _Ancilla_X, _Ancilla_Z, p_list[j])%2) == 0:\n",
    "            result_list[j] -= 1\n",
    "\n",
    "result_list /= num_exp"
   ]
  },
  {
   "cell_type": "code",
   "execution_count": 325,
   "id": "9660a86f-aad8-4d7c-83f9-ebdb8b6d9d19",
   "metadata": {},
   "outputs": [
    {
     "data": {
      "text/plain": [
       "Text(0.5, 1.0, 'Steane [[7, 1, 3]]')"
      ]
     },
     "execution_count": 325,
     "metadata": {},
     "output_type": "execute_result"
    },
    {
     "data": {
      "image/png": "[encoded data removed]",
      "text/plain": [
       "<Figure size 432x288 with 1 Axes>"
      ]
     },
     "metadata": {
      "needs_background": "light"
     },
     "output_type": "display_data"
    }
   ],
   "source": [
    "plt.loglog(p_list, result_list, '-', label='Circuit model')\n",
    "plt.loglog(p_list, p_list, label='Physical error rate')\n",
    "plt.legend()\n",
    "plt.xlabel('Physical error rate')\n",
    "plt.ylabel('Logical error rate')\n",
    "plt.title('Steane [[7, 1, 3]]')"
   ]
  },
  {
   "cell_type": "code",
   "execution_count": 278,
   "id": "e3d93736-681b-4727-8f47-fce3c4db3968",
   "metadata": {},
   "outputs": [],
   "source": [
    "# result_list"
   ]
  },
  {
   "cell_type": "code",
   "execution_count": null,
   "id": "44f4521e-88f5-4929-b901-474c35bea91f",
   "metadata": {},
   "outputs": [],
   "source": []
  }
 ],
 "metadata": {
  "kernelspec": {
   "display_name": "Python 3 (ipykernel)",
   "language": "python",
   "name": "python3"
  },
  "language_info": {
   "codemirror_mode": {
    "name": "ipython",
    "version": 3
   },
   "file_extension": ".py",
   "mimetype": "text/x-python",
   "name": "python",
   "nbconvert_exporter": "python",
   "pygments_lexer": "ipython3",
   "version": "3.9.12"
  }
 },
 "nbformat": 4,
 "nbformat_minor": 5
}
