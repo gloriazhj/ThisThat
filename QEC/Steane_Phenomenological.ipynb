{
 "cells": [
  {
   "cell_type": "markdown",
   "id": "34bcfcaa-fbb2-49c7-9873-31d81e8e376c",
   "metadata": {},
   "source": [
    "### Steane [[7, 1, 3]], phenomenological model\n",
    "\n",
    "Depolarization channel: \n",
    "$$\\rho\\rightarrow (1-p)\\rho + \\frac{p}{3}X\\rho X + \\frac{1}{3}Y\\rho Y + \\frac{1}{3}Z\\rho Z$$\n",
    "\n",
    "Each syndrome measurement has probability $p$ to go wrong. Therefore we need to do $d$ rounds of measurement then apply error correction based on the majority vote result:\n",
    "- $>d/2$ rounds of syndrome: qubit error -> correct \n",
    "- $<d/2$ rounds of syndrome: measurement error -> ignore "
   ]
  },
  {
   "cell_type": "code",
   "execution_count": 2,
   "id": "5256b684-8e8e-4450-9eb7-fdb1cfcc0ac5",
   "metadata": {},
   "outputs": [],
   "source": [
    "import numpy as np\n",
    "import matplotlib.pyplot as plt\n",
    "import numpy.random as rand"
   ]
  },
  {
   "cell_type": "code",
   "execution_count": 3,
   "id": "731327d0-0b86-4eae-8227-7d29b103e253",
   "metadata": {},
   "outputs": [],
   "source": [
    "def steane_Err():\n",
    "    # col 1: X error\n",
    "    # col 2: Z error\n",
    "    return np.zeros((7, 2))"
   ]
  },
  {
   "cell_type": "code",
   "execution_count": 4,
   "id": "26b5f8f0-ae09-4615-8334-647fe27abb1d",
   "metadata": {},
   "outputs": [],
   "source": [
    "# Apply depolarization channel\n",
    "def AddError(p, P_matrix):\n",
    "    for i in range(7):\n",
    "        r1 = rand.random()\n",
    "        if r1 < p:\n",
    "            r2 = rand.random()\n",
    "            if r2 < 1/3:\n",
    "                P_matrix[i][0] = 1        # p/3 X\n",
    "            elif r2 > 2/3:\n",
    "                P_matrix[i][1] = 1        # p/3 Z\n",
    "            else:\n",
    "                P_matrix[i][0] = 1\n",
    "                P_matrix[i][1] = 1        # p/3 Y\n",
    "    return P_matrix"
   ]
  },
  {
   "cell_type": "code",
   "execution_count": 5,
   "id": "12930c1f-2785-4b4e-91b5-fe9adf66ee1a",
   "metadata": {},
   "outputs": [],
   "source": [
    "# Error occurred during measurement, add to check matrix in each round\n",
    "def meas_err(p):\n",
    "    meas_err = np.zeros((2, 3))\n",
    "    for i in range(2):\n",
    "        for j in range(3):\n",
    "            r = np.random.random()\n",
    "            if r < p:\n",
    "                meas_err[i][j] = 1\n",
    "    return meas_err"
   ]
  },
  {
   "cell_type": "code",
   "execution_count": 12,
   "id": "93cea80a-aab2-4464-8c99-53547d736652",
   "metadata": {},
   "outputs": [],
   "source": [
    "def Decoder(P_matrix, p=0, d: int=3):\n",
    "    # Detect\n",
    "    H = np.array([[1, 1, 1, 1, 0, 0, 0],\n",
    "                  [0, 1, 1, 0, 1, 1, 0],\n",
    "                  [0, 0, 1, 1, 0, 1, 1]]).transpose()\n",
    "    check = np.mod(np.dot(P_matrix.transpose(), H), 2)\n",
    "    # Decode\n",
    "    syndrome_list = np.array([[1, 0, 0],\n",
    "                              [1, 1, 0],\n",
    "                              [1, 1, 1],\n",
    "                              [1, 0, 1],\n",
    "                              [0, 1, 0],\n",
    "                              [0, 1, 1],\n",
    "                              [0, 0, 1]])\n",
    "    correct = np.zeros((7, 2))\n",
    "    # d rounds of measurement, each with measurement error of probability p\n",
    "    for rnd in range(d):\n",
    "        _check = check + meas_err(p)\n",
    "        for i in range(7):\n",
    "            for j in range(2):\n",
    "                if (syndrome_list[i] == _check[j]).all():\n",
    "                    correct[i][j] += 1\n",
    "    # Majority vote\n",
    "    for i in range(7):\n",
    "        for j in range(2):\n",
    "            if correct[i][j] > float(d)/2:\n",
    "                correct[i][j] = 1\n",
    "            else:\n",
    "                correct[i][j] = 0\n",
    "\n",
    "    return np.mod(np.sum((correct+P_matrix)[:], axis=0), 2)"
   ]
  },
  {
   "cell_type": "code",
   "execution_count": 13,
   "id": "a12d2fe1-a3f5-4df8-83b9-12c3b4835b4d",
   "metadata": {},
   "outputs": [
    {
     "data": {
      "text/plain": [
       "array([0., 0.])"
      ]
     },
     "execution_count": 13,
     "metadata": {},
     "output_type": "execute_result"
    }
   ],
   "source": [
    "# Example, adding random error, syndrome\n",
    "P = steane_Err()\n",
    "p = 0.001\n",
    "P_ = AddError(p, P)\n",
    "Decoder(P_, p)"
   ]
  },
  {
   "cell_type": "code",
   "execution_count": 14,
   "id": "ac865b97-ffac-49d9-a088-11924b67cac8",
   "metadata": {},
   "outputs": [],
   "source": [
    "num_exp = 10000\n",
    "len_list = 11\n",
    "# p_list = np.linspace(0, 0.2, len_list)\n",
    "p_list = np.logspace(-2, -1, len_list)"
   ]
  },
  {
   "cell_type": "code",
   "execution_count": 21,
   "id": "92bca6bc-c858-4c84-9798-4442fe4f0b61",
   "metadata": {},
   "outputs": [],
   "source": [
    "result_list = np.ones(len_list)*num_exp\n",
    "\n",
    "for j in range(len_list):\n",
    "    for i in range(num_exp):\n",
    "        P_ = AddError(p_list[j], steane_Err())\n",
    "        if np.sum(Decoder(P_, p_list[j])) == 0:\n",
    "            result_list[j] -= 1\n",
    "\n",
    "result_list /= num_exp"
   ]
  },
  {
   "cell_type": "code",
   "execution_count": 22,
   "id": "9660a86f-aad8-4d7c-83f9-ebdb8b6d9d19",
   "metadata": {},
   "outputs": [
    {
     "data": {
      "text/plain": [
       "Text(0.5, 1.0, 'Phenomenological model')"
      ]
     },
     "execution_count": 22,
     "metadata": {},
     "output_type": "execute_result"
    },
    {
     "data": {
      "image/png": "[encoded data removed]",
      "text/plain": [
       "<Figure size 432x288 with 1 Axes>"
      ]
     },
     "metadata": {
      "needs_background": "light"
     },
     "output_type": "display_data"
    }
   ],
   "source": [
    "plt.loglog(p_list, result_list, label='Steane [[7, 1, 3]]')\n",
    "plt.loglog(p_list, p_list, label='Physical error rate')\n",
    "plt.legend()\n",
    "plt.xlabel('Physical error rate')\n",
    "plt.ylabel('Logical error rate')\n",
    "plt.title('Phenomenological model')"
   ]
  },
  {
   "cell_type": "code",
   "execution_count": null,
   "id": "e3d93736-681b-4727-8f47-fce3c4db3968",
   "metadata": {},
   "outputs": [],
   "source": []
  }
 ],
 "metadata": {
  "kernelspec": {
   "display_name": "Python 3 (ipykernel)",
   "language": "python",
   "name": "python3"
  },
  "language_info": {
   "codemirror_mode": {
    "name": "ipython",
    "version": 3
   },
   "file_extension": ".py",
   "mimetype": "text/x-python",
   "name": "python",
   "nbconvert_exporter": "python",
   "pygments_lexer": "ipython3",
   "version": "3.9.12"
  }
 },
 "nbformat": 4,
 "nbformat_minor": 5
}
