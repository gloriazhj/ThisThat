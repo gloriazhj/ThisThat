{
 "cells": [
  {
   "cell_type": "markdown",
   "id": "34bcfcaa-fbb2-49c7-9873-31d81e8e376c",
   "metadata": {},
   "source": [
    "### Steane [[7, 1, 3]], code capacity model"
   ]
  },
  {
   "cell_type": "code",
   "execution_count": 9,
   "id": "5256b684-8e8e-4450-9eb7-fdb1cfcc0ac5",
   "metadata": {},
   "outputs": [],
   "source": [
    "import numpy as np\n",
    "import matplotlib.pyplot as plt\n",
    "import numpy.random as rand"
   ]
  },
  {
   "cell_type": "code",
   "execution_count": 296,
   "id": "731327d0-0b86-4eae-8227-7d29b103e253",
   "metadata": {},
   "outputs": [],
   "source": [
    "def steane_Err():\n",
    "    # col 1: X error\n",
    "    # col 2: Z error\n",
    "    return np.zeros((7, 2))"
   ]
  },
  {
   "cell_type": "code",
   "execution_count": 297,
   "id": "26b5f8f0-ae09-4615-8334-647fe27abb1d",
   "metadata": {},
   "outputs": [],
   "source": [
    "def AddError(p, P_matrix):\n",
    "    # Depolarizing model\n",
    "    # (1-p):I, p/3:X, p/3:Y, p/3: Z\n",
    "    for i in range(7):\n",
    "        r1 = rand.random()\n",
    "        if r1 < p:\n",
    "            r2 = rand.random()\n",
    "            if r2 < 1/3:\n",
    "                P_matrix[i][0] = 1\n",
    "            elif r2 > 2/3:\n",
    "                P_matrix[i][1] = 1\n",
    "            else:\n",
    "                P_matrix[i][0] = 1\n",
    "                P_matrix[i][1] = 1\n",
    "    return P_matrix"
   ]
  },
  {
   "cell_type": "code",
   "execution_count": 278,
   "id": "93cea80a-aab2-4464-8c99-53547d736652",
   "metadata": {},
   "outputs": [],
   "source": [
    "def Decoder(P_matrix):\n",
    "    # Detect\n",
    "    H = np.array([[1, 1, 1, 1, 0, 0, 0],\n",
    "                  [0, 1, 1, 0, 1, 1, 0],\n",
    "                  [0, 0, 1, 1, 0, 1, 1]]).transpose()\n",
    "    check = np.mod(np.dot(P_matrix.transpose(), H), 2)\n",
    "    # Decode\n",
    "    correct_matrix = np.array([[1, 0, 0],\n",
    "                              [1, 1, 0],\n",
    "                              [1, 1, 1],\n",
    "                              [1, 0, 1],\n",
    "                              [0, 1, 0],\n",
    "                              [0, 1, 1],\n",
    "                              [0, 0, 1]])\n",
    "    correct = np.zeros((7, 2))\n",
    "    for i in range(7):\n",
    "        for j in range(2):\n",
    "            if (correct_matrix[i] == check[j]).all():\n",
    "                correct[i][j] = 1\n",
    "                \n",
    "    return np.mod(np.sum(correct+P_matrix, axis=0), 2)"
   ]
  },
  {
   "cell_type": "code",
   "execution_count": 279,
   "id": "a12d2fe1-a3f5-4df8-83b9-12c3b4835b4d",
   "metadata": {},
   "outputs": [
    {
     "data": {
      "text/plain": [
       "array([[0., 0.],\n",
       "       [0., 1.],\n",
       "       [1., 1.],\n",
       "       [0., 0.],\n",
       "       [0., 0.],\n",
       "       [0., 0.],\n",
       "       [1., 1.]])"
      ]
     },
     "execution_count": 279,
     "metadata": {},
     "output_type": "execute_result"
    }
   ],
   "source": [
    "# Example, adding random error, syndrome\n",
    "P = steane_Err()\n",
    "P_ = AddError(1/2, P)\n",
    "P_"
   ]
  },
  {
   "cell_type": "code",
   "execution_count": 292,
   "id": "ac865b97-ffac-49d9-a088-11924b67cac8",
   "metadata": {},
   "outputs": [],
   "source": [
    "num_exp = 10000\n",
    "len_list = 21\n",
    "p_list = np.linspace(0, 0.2, len_list)\n",
    "result_list = np.zeros(len_list)"
   ]
  },
  {
   "cell_type": "code",
   "execution_count": 300,
   "id": "92bca6bc-c858-4c84-9798-4442fe4f0b61",
   "metadata": {},
   "outputs": [],
   "source": [
    "for j in range(len_list):\n",
    "    for i in range(num_exp):\n",
    "        P_ = AddError(p_list[j], steane_Err())\n",
    "        error = Decoder(P_)\n",
    "        if (error==np.array([0, 0])).all():\n",
    "            result_list[j] += 1"
   ]
  },
  {
   "cell_type": "code",
   "execution_count": 301,
   "id": "c58cb196-8b1c-4f25-9f0b-b8d2700e429b",
   "metadata": {},
   "outputs": [],
   "source": [
    "result_list /= num_exp\n",
    "result_list = 1-result_list"
   ]
  },
  {
   "cell_type": "code",
   "execution_count": 302,
   "id": "9660a86f-aad8-4d7c-83f9-ebdb8b6d9d19",
   "metadata": {},
   "outputs": [
    {
     "data": {
      "text/plain": [
       "[<matplotlib.lines.Line2D at 0x7fbda07c5a90>]"
      ]
     },
     "execution_count": 302,
     "metadata": {},
     "output_type": "execute_result"
    },
    {
     "data": {
      "image/png": "[encoded data removed]",
      "text/plain": [
       "<Figure size 432x288 with 1 Axes>"
      ]
     },
     "metadata": {
      "needs_background": "light"
     },
     "output_type": "display_data"
    }
   ],
   "source": [
    "plt.loglog(p_list, result_list, label='Steane [[7, 1, 3]]')\n",
    "plt.loglog(p_list, p_list, label='Physical')"
   ]
  },
  {
   "cell_type": "code",
   "execution_count": null,
   "id": "c46b83dc-368d-4660-aa36-5010a25fa9f4",
   "metadata": {},
   "outputs": [],
   "source": []
  }
 ],
 "metadata": {
  "kernelspec": {
   "display_name": "Python 3 (ipykernel)",
   "language": "python",
   "name": "python3"
  },
  "language_info": {
   "codemirror_mode": {
    "name": "ipython",
    "version": 3
   },
   "file_extension": ".py",
   "mimetype": "text/x-python",
   "name": "python",
   "nbconvert_exporter": "python",
   "pygments_lexer": "ipython3",
   "version": "3.9.12"
  }
 },
 "nbformat": 4,
 "nbformat_minor": 5
}
